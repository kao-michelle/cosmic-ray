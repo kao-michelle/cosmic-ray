{
 "cells": [
  {
   "cell_type": "markdown",
   "id": "bc6fbaa4-b9f2-4812-a012-9b5432d09443",
   "metadata": {},
   "source": [
    "### CR heating rate vs. molecular cloud position"
   ]
  },
  {
   "cell_type": "code",
   "execution_count": 1,
   "id": "72d3f875-ed48-4a33-aaa7-661e25b128ac",
   "metadata": {},
   "outputs": [],
   "source": [
    "from matplotlib import pyplot as plt\n",
    "import numpy as np\n",
    "from numpy import trapz\n",
    "import math\n",
    "from astropy import units as u\n",
    "from astropy.constants import c, m_e, sigma_T, alpha\n",
    "from aafragpy import get_cross_section"
   ]
  },
  {
   "cell_type": "code",
   "execution_count": 2,
   "id": "9ab69455-82c4-4397-b65c-11841ea296f1",
   "metadata": {},
   "outputs": [],
   "source": [
    "# magnetic field - density relation \n",
    "def B(n):\n",
    "    \n",
    "    n1 = 300 #cm^-3\n",
    "    B_ICM = (10 * u.uG).to(u.G)\n",
    "    q = 2/3\n",
    "    \n",
    "    if n <= n1:\n",
    "        return B_ICM.value\n",
    "    else:\n",
    "        return B_ICM.value * (n / n1)**q"
   ]
  },
  {
   "cell_type": "code",
   "execution_count": 3,
   "id": "e21312f0-1179-4b07-b740-8095bbc0d07e",
   "metadata": {},
   "outputs": [],
   "source": [
    "# density relation\n",
    "def n_r(r):\n",
    "    \n",
    "    n_0 = 10**4 #cm^-3\n",
    "    r_0 = 2 #pc\n",
    "    a = -2\n",
    "    \n",
    "    return n_0 * (1 + (r / r_0)**2)**a"
   ]
  },
  {
   "cell_type": "code",
   "execution_count": 4,
   "id": "220e9636-739a-41dd-b71e-b2e068d48bbe",
   "metadata": {},
   "outputs": [],
   "source": [
    "### proton power spectrum ###\n",
    "def dN_dE(Ep, Gamma, U_CR):\n",
    "    # N_0 has unit cm^-3 GeV^-1\n",
    "    \n",
    "    E_max = Ep[-1]\n",
    "    E_min = Ep[0]\n",
    "    \n",
    "    if Gamma == 2:\n",
    "        N_0 = (U_CR*10**-9 * E_min**(-Gamma)) / np.log(E_max / E_min)\n",
    "    else:\n",
    "        N_0 = (U_CR*10**-9 * (2 - Gamma) * E_min**(-Gamma)) / (E_max**(2 - Gamma) - E_min**(2 - Gamma))\n",
    "    \n",
    "    E_0 = 1 #GeV\n",
    "    \n",
    "    return N_0 * (Ep / E_0)**(-Gamma)"
   ]
  },
  {
   "cell_type": "code",
   "execution_count": 5,
   "id": "ed877548-73da-4c2c-89ed-798da9dec74e",
   "metadata": {},
   "outputs": [],
   "source": [
    "### ionization fraction ###\n",
    "def x_i(n, U_CR):\n",
    "    \n",
    "    scale = U_CR / 1.4\n",
    "    x_0 = 8.7 * 10**-8\n",
    "    zeta_H = 10**-16 #1/s\n",
    "    \n",
    "    return x_0 * (scale * zeta_H / 10**-17)**(1/2) * (n*u.cm**-3 / (10**5*u.cm**-3))**(-1/2)\n",
    "\n",
    "### electron heating efficiency f_c ###\n",
    "def efficiency(n, E_e, U_CR):\n",
    "    \n",
    "    # n is in cm^-3\n",
    "    n_ion = x_i(n, U_CR) * n*u.cm**-3\n",
    "\n",
    "    # coefficient of E; change all E to [GeV]\n",
    "    U_rad = 0.26*u.eV*u.cm**-3\n",
    "    U_mag = ((B(n)**2 / (8 * math.pi))*u.erg*u.cm**-3).to(u.eV*u.cm**-3)\n",
    "    \n",
    "    K_rad = ((4/3) * sigma_T / (m_e**2 * c**3) * U_rad).to(1 / (u.GeV * u.Myr))\n",
    "    K_sync = ((4/3) * sigma_T / (m_e**2 * c**3) * U_mag).to(1 / (u.GeV * u.Myr))\n",
    "    K_ff = (alpha * c * sigma_T * n_ion).to(1/u.Myr)\n",
    "    K_c = (30 * n_ion * m_e * c**3 * sigma_T).to(u.GeV/u.Myr)\n",
    "    \n",
    "    # energy loss timescale\n",
    "    tau_rad = (K_rad.value * E_e)**-1\n",
    "    tau_sync = (K_sync.value * E_e)**-1\n",
    "    tau_ff = (K_ff.value * E_e**0)**-1\n",
    "    tau_c = (K_c.value * E_e**-1)**-1\n",
    "\n",
    "    # heating efficiency\n",
    "    f_c = tau_c**-1 / (tau_c**-1 + tau_rad**-1 + tau_sync**-1 + tau_ff**-1)\n",
    "   \n",
    "    return f_c"
   ]
  },
  {
   "cell_type": "markdown",
   "id": "d1fc64b1-1a32-4894-81d9-b1226ad7f7f2",
   "metadata": {},
   "source": [
    "#### Galaxy Parameters"
   ]
  },
  {
   "cell_type": "code",
   "execution_count": 6,
   "id": "a2045b8d-e73f-4d58-af66-8be1f303978c",
   "metadata": {},
   "outputs": [],
   "source": [
    "### Galaxy Parameters ###\n",
    "# Milky Way\n",
    "Gamma_MW = 2.7\n",
    "U_MW = 1.4 #eVcm^-3\n",
    "\n",
    "# M82\n",
    "Gamma_82 = 2.14\n",
    "U_82 = 550 #eVcm^-3\n",
    "\n",
    "# Arp 220\n",
    "Gamma_220 = 2.48\n",
    "U_220 = 5100 #eVcm^-3"
   ]
  },
  {
   "cell_type": "code",
   "execution_count": 7,
   "id": "ded75888-1cd7-4fd2-a55f-12814ee28e09",
   "metadata": {},
   "outputs": [],
   "source": [
    "def H_UV(SFR):\n",
    "    return 10**-24 * (SFR / 160)\n",
    "\n",
    "SFR_MW = 2\n",
    "SFR_82 = 13\n",
    "SFR_220 = 230"
   ]
  },
  {
   "cell_type": "markdown",
   "id": "5e9a22f7-2da8-4da2-a112-0b14890d1f6d",
   "metadata": {},
   "source": [
    "### \n",
    "### Milky Way"
   ]
  },
  {
   "cell_type": "code",
   "execution_count": 9,
   "id": "294b1dc7-148c-4e29-976a-04b5222bc273",
   "metadata": {},
   "outputs": [
    {
     "name": "stdout",
     "output_type": "stream",
     "text": [
      "[2.40112239e-29 2.39953471e-29 2.39478632e-29 2.38692078e-29\n",
      " 2.37600945e-29 2.36214961e-29 2.34546207e-29 2.32608825e-29\n",
      " 2.30418692e-29 2.27993075e-29 2.25350276e-29 2.22509292e-29\n",
      " 2.19489480e-29 2.16310257e-29 2.12990830e-29 2.09549959e-29\n",
      " 2.06005764e-29 2.02375565e-29 1.98675759e-29 1.94921738e-29\n",
      " 1.91127826e-29 1.87307252e-29 1.83472144e-29 1.79633537e-29\n",
      " 1.75801406e-29 1.71984697e-29 1.68191380e-29 1.64428503e-29\n",
      " 1.60702244e-29 1.57017978e-29] erg / (cm3 s)\n"
     ]
    }
   ],
   "source": [
    "# molecular cloud radius\n",
    "r_array = np.linspace(0, 2, 30)          ### 0 - 2 pc\n",
    "\n",
    "# \"threshold energy\" \n",
    "E_thr = 4   ### in GeV\n",
    "\n",
    "# proton energy; size j\n",
    "E_p = np.logspace(0, 6, 50)              ### 1e0 - 1e6 GeV\n",
    "E_p_array = E_p[E_p > E_thr]\n",
    "\n",
    "# dNp/dEp (proton spectral number density)\n",
    "####### change Gamma and U_CR #######\n",
    "p_spectralMW = dN_dE(E_p_array, Gamma_MW, U_MW)     ### in cm^-3 GeV^-1\n",
    "\n",
    "# electron energy\n",
    "#size i\n",
    "E_e_array = np.logspace(-3, 6, 30)        ### 1e-3 - 1e6 GeV\n",
    "\n",
    "# differential cross section in mb/GeV\n",
    "dsigma_dEe = get_cross_section ('el','p-p', E_primaries = E_p_array, E_secondaries = E_e_array)\n",
    "# size jxi\n",
    "cross_section = dsigma_dEe[0] * 10**-27  ### in cm^2 GeV^-1\n",
    "\n",
    "# final heating power\n",
    "resultsMW = np.zeros_like(r_array)\n",
    "\n",
    "for k in np.arange(len(r_array)):\n",
    "    n = n_r(r_array[k])\n",
    "    \n",
    "    outerMW = np.zeros_like(E_p_array)\n",
    "    \n",
    "    for j in np.arange(len(E_p_array)):\n",
    "        dNp_dEpMW = p_spectralMW[j]\n",
    "        \n",
    "        innerMW = np.zeros_like(E_e_array)\n",
    "    \n",
    "        for i in np.arange(len(E_e_array)): \n",
    "            E_e = E_e_array[i]\n",
    "        \n",
    "            diff_sigma = cross_section[j,i]\n",
    "            ####### change U_CR #######\n",
    "            f_cMW = efficiency(n, E_e, U_MW)\n",
    "        \n",
    "            innerMW[i] = E_e * f_cMW * n * diff_sigma * c.to(u.cm/u.s).value * dNp_dEpMW  \n",
    "            \n",
    "        int_innerMW = trapz(innerMW, E_e_array)\n",
    "        outerMW[j] = int_innerMW\n",
    "        \n",
    "    int_outerMW = trapz(outerMW, E_p_array)\n",
    "    resultsMW[k] = int_outerMW\n",
    "\n",
    "H_MW = (resultsMW * u.GeV*u.cm**-3*u.s**-1).to(u.erg*u.cm**-3*u.s**-1)\n",
    "print(H_MW)"
   ]
  },
  {
   "cell_type": "code",
   "execution_count": 48,
   "id": "f892fe86-1573-4ac6-bf25-2907890024fb",
   "metadata": {},
   "outputs": [
    {
     "data": {
      "image/png": "[encoded data removed]",
      "text/plain": [
       "<Figure size 504x360 with 1 Axes>"
      ]
     },
     "metadata": {
      "needs_background": "light"
     },
     "output_type": "display_data"
    }
   ],
   "source": [
    "fig, ax = plt.subplots(figsize=[7,5]) \n",
    "\n",
    "ax.plot(r_array, H_MW, color = 'palevioletred', label = 'cosmic ray heating')\n",
    "ax.plot(r_array, H_UV(SFR_MW)*r_array**0, color = 'palevioletred', linestyle = '--', label = 'max stellar heating')\n",
    "ax.set_yscale('log')\n",
    "ax.set_ylabel('H / erg cm$^{-3}$ s$^{-1}$', fontsize = 16)\n",
    "ax.set_xlabel('s / pc', fontsize = 16)\n",
    "ax.set_title('Milky Way Galaxy', fontsize = 16)\n",
    "ax.tick_params(axis='x', which='major', labelsize = 14)\n",
    "ax.tick_params(axis='y', which='major', labelsize = 11)\n",
    "fig.legend()\n",
    "plt.savefig('Milky Way.pdf')"
   ]
  },
  {
   "cell_type": "markdown",
   "id": "4a7df807-4234-4e2a-a766-9a36e971b756",
   "metadata": {},
   "source": [
    "### \n",
    "### M82"
   ]
  },
  {
   "cell_type": "code",
   "execution_count": 15,
   "id": "4a1a5c50-2fff-4a9a-89ee-cca6379b1aa0",
   "metadata": {},
   "outputs": [
    {
     "name": "stdout",
     "output_type": "stream",
     "text": [
      "[1.01903288e-25 1.01799108e-25 1.01487774e-25 1.00972871e-25\n",
      " 1.00260253e-25 9.93578844e-26 9.82756126e-26 9.70249068e-26\n",
      " 9.56185641e-26 9.40703994e-26 9.23949330e-26 9.06070855e-26\n",
      " 8.87218927e-26 8.67542466e-26 8.47186686e-26 8.26291184e-26\n",
      " 8.04988399e-26 7.83402430e-26 7.61648203e-26 7.39830939e-26\n",
      " 7.18045916e-26 6.96378446e-26 6.74904066e-26 6.53688867e-26\n",
      " 6.32789955e-26 6.12255986e-26 5.92127761e-26 5.72438855e-26\n",
      " 5.53216251e-26 5.34480976e-26] erg / (cm3 s)\n"
     ]
    }
   ],
   "source": [
    "# molecular cloud radius\n",
    "r_array = np.linspace(0, 2, 30)          ### 0 - 2 pc\n",
    "\n",
    "# \"threshold energy\" \n",
    "E_thr = 4   ### in GeV\n",
    "\n",
    "# proton energy; size j\n",
    "E_p = np.logspace(0, 6, 50)              ### 1e0 - 1e6 GeV\n",
    "E_p_array = E_p[E_p > E_thr]\n",
    "\n",
    "# dNp/dEp (proton spectral number density)\n",
    "####### change Gamma and U_CR #######\n",
    "p_spectral82 = dN_dE(E_p_array, Gamma_82, U_82)     ### in cm^-3 GeV^-1\n",
    "\n",
    "# electron energy\n",
    "#size i\n",
    "E_e_array = np.logspace(-3, 6, 30)        ### 1e-3 - 1e6 GeV\n",
    "\n",
    "# differential cross section in mb/GeV\n",
    "dsigma_dEe = get_cross_section ('el','p-p', E_primaries = E_p_array, E_secondaries = E_e_array)\n",
    "# size jxi\n",
    "cross_section = dsigma_dEe[0] * 10**-27  ### in cm^2 GeV^-1\n",
    "\n",
    "# final heating power\n",
    "results82 = np.zeros_like(r_array)\n",
    "\n",
    "for k in np.arange(len(r_array)):\n",
    "    n = n_r(r_array[k])\n",
    "    \n",
    "    outer82 = np.zeros_like(E_p_array)\n",
    "    \n",
    "    for j in np.arange(len(E_p_array)):\n",
    "        dNp_dEp82 = p_spectral82[j]\n",
    "        \n",
    "        inner82 = np.zeros_like(E_e_array)\n",
    "    \n",
    "        for i in np.arange(len(E_e_array)): \n",
    "            E_e = E_e_array[i]\n",
    "        \n",
    "            diff_sigma = cross_section[j,i]\n",
    "            ####### change U_CR #######\n",
    "            f_c82 = efficiency(n, E_e, U_82)\n",
    "        \n",
    "            inner82[i] = E_e * f_c82 * n * diff_sigma * c.to(u.cm/u.s).value * dNp_dEp82  \n",
    "            \n",
    "        int_inner82 = trapz(inner82, E_e_array)\n",
    "        outer82[j] = int_inner82\n",
    "        \n",
    "    int_outer82 = trapz(outer82, E_p_array)\n",
    "    results82[k] = int_outer82\n",
    "\n",
    "H_82 = (results82 * u.GeV*u.cm**-3*u.s**-1).to(u.erg*u.cm**-3*u.s**-1)\n",
    "print(H_82)"
   ]
  },
  {
   "cell_type": "code",
   "execution_count": 47,
   "id": "243d7b12-146d-4a07-970f-65864501f7fb",
   "metadata": {},
   "outputs": [
    {
     "data": {
      "image/png": "[encoded data removed]",
      "text/plain": [
       "<Figure size 504x360 with 1 Axes>"
      ]
     },
     "metadata": {
      "needs_background": "light"
     },
     "output_type": "display_data"
    }
   ],
   "source": [
    "fig, ax = plt.subplots(figsize=[7,5]) \n",
    "\n",
    "ax.plot(r_array, H_82, color = 'mediumslateblue', label = 'cosmic ray heating')\n",
    "ax.plot(r_array, H_UV(SFR_82)*r_array**0, color = 'mediumslateblue', linestyle = '--', label = 'max stellar heating')\n",
    "#plt.yscale('log')\n",
    "ax.set_ylabel('H / erg cm$^{-3}$ s$^{-1}$', fontsize = 16)\n",
    "ax.set_xlabel('s / pc', fontsize = 16)\n",
    "ax.set_title('starburst galaxy M82', fontsize = 16)\n",
    "ax.tick_params(axis='both', which='major', labelsize = 14)\n",
    "fig.legend()\n",
    "plt.savefig('M82.pdf')"
   ]
  },
  {
   "cell_type": "markdown",
   "id": "401e6a5d-9c43-45a9-9a0a-da5a6a4cf96b",
   "metadata": {},
   "source": [
    "### \n",
    "### Arp 220"
   ]
  },
  {
   "cell_type": "code",
   "execution_count": 19,
   "id": "ad9e04b1-671e-4045-bdb2-660b57334164",
   "metadata": {},
   "outputs": [
    {
     "name": "stdout",
     "output_type": "stream",
     "text": [
      "[2.14135841e-24 2.13878275e-24 2.13108883e-24 2.11837484e-24\n",
      " 2.10080099e-24 2.07858467e-24 2.05199393e-24 2.02133988e-24\n",
      " 1.98696813e-24 1.94924989e-24 1.90857306e-24 1.86533361e-24\n",
      " 1.81992761e-24 1.77274406e-24 1.72415884e-24 1.67452954e-24\n",
      " 1.62419162e-24 1.57345544e-24 1.52260440e-24 1.47189395e-24\n",
      " 1.42155130e-24 1.37177590e-24 1.32274030e-24 1.27459152e-24\n",
      " 1.22745265e-24 1.18142462e-24 1.13658817e-24 1.09300573e-24\n",
      " 1.05072338e-24 1.00977273e-24] erg / (cm3 s)\n"
     ]
    }
   ],
   "source": [
    "# molecular cloud radius\n",
    "r_array = np.linspace(0, 2, 30)          ### 0 - 2 pc\n",
    "\n",
    "# \"threshold energy\" \n",
    "E_thr = 4   ### in GeV\n",
    "\n",
    "# proton energy; size j\n",
    "E_p = np.logspace(0, 6, 50)              ### 1e0 - 1e6 GeV\n",
    "E_p_array = E_p[E_p > E_thr]\n",
    "\n",
    "# dNp/dEp (proton spectral number density)\n",
    "####### change Gamma and U_CR #######\n",
    "p_spectral220 = dN_dE(E_p_array, Gamma_220, U_220)     ### in cm^-3 GeV^-1\n",
    "\n",
    "# electron energy\n",
    "#size i\n",
    "E_e_array = np.logspace(-3, 6, 30)        ### 1e-3 - 1e6 GeV\n",
    "\n",
    "# differential cross section in mb/GeV\n",
    "dsigma_dEe = get_cross_section ('el','p-p', E_primaries = E_p_array, E_secondaries = E_e_array)\n",
    "# size jxi\n",
    "cross_section = dsigma_dEe[0] * 10**-27  ### in cm^2 GeV^-1\n",
    "\n",
    "# final heating power\n",
    "results220 = np.zeros_like(r_array)\n",
    "\n",
    "for k in np.arange(len(r_array)):\n",
    "    n = n_r(r_array[k])\n",
    "    \n",
    "    outer220 = np.zeros_like(E_p_array)\n",
    "    \n",
    "    for j in np.arange(len(E_p_array)):\n",
    "        dNp_dEp220 = p_spectral220[j]\n",
    "        \n",
    "        inner220 = np.zeros_like(E_e_array)\n",
    "    \n",
    "        for i in np.arange(len(E_e_array)): \n",
    "            E_e = E_e_array[i]\n",
    "        \n",
    "            diff_sigma = cross_section[j,i]\n",
    "            ####### change U_CR #######\n",
    "            f_c220 = efficiency(n, E_e, U_220)\n",
    "        \n",
    "            inner220[i] = E_e * f_c220 * n * diff_sigma * c.to(u.cm/u.s).value * dNp_dEp220  \n",
    "            \n",
    "        int_inner220 = trapz(inner220, E_e_array)\n",
    "        outer220[j] = int_inner220\n",
    "        \n",
    "    int_outer220 = trapz(outer220, E_p_array)\n",
    "    results220[k] = int_outer220\n",
    "\n",
    "H_220 = (results220 * u.GeV*u.cm**-3*u.s**-1).to(u.erg*u.cm**-3*u.s**-1)\n",
    "print(H_220)"
   ]
  },
  {
   "cell_type": "code",
   "execution_count": 46,
   "id": "794cc190-51c5-42cb-a9f2-dd1378012376",
   "metadata": {},
   "outputs": [
    {
     "data": {
      "image/png": "[encoded data removed]",
      "text/plain": [
       "<Figure size 504x360 with 1 Axes>"
      ]
     },
     "metadata": {
      "needs_background": "light"
     },
     "output_type": "display_data"
    }
   ],
   "source": [
    "fig, ax = plt.subplots(figsize=[7,5]) \n",
    "\n",
    "ax.plot(r_array, H_220, color = 'dodgerblue', label = 'cosmic ray heating')\n",
    "ax.plot(r_array, H_UV(SFR_220)*r_array**0, color = 'dodgerblue', linestyle = '--', label = 'max stellar heating')\n",
    "#plt.yscale('log')\n",
    "ax.set_ylabel('H / erg cm$^{-3}$ s$^{-1}$', fontsize = 16)\n",
    "ax.set_xlabel('s / pc', fontsize = 16)\n",
    "ax.set_title('starburst galaxy Arp 220', fontsize = 16)\n",
    "ax.tick_params(axis='both', which='major', labelsize = 14)\n",
    "fig.legend()\n",
    "plt.savefig('Arp 220.pdf')"
   ]
  },
  {
   "cell_type": "code",
   "execution_count": 78,
   "id": "c6c1f0f4-468e-49f1-95cb-385132422238",
   "metadata": {},
   "outputs": [
    {
     "data": {
      "image/png": "[encoded data removed]",
      "text/plain": [
       "<Figure size 504x360 with 1 Axes>"
      ]
     },
     "metadata": {
      "needs_background": "light"
     },
     "output_type": "display_data"
    }
   ],
   "source": [
    "fig, ax = plt.subplots(figsize=[7,5]) \n",
    "\n",
    "ax.plot(r_array, H_MW, color = 'palevioletred', label = 'Milky Way')\n",
    "#plt.plot(r_array, H_UV(SFR_MW)*r_array**0, color = 'palevioletred', linestyle = '--')\n",
    "\n",
    "ax.plot(r_array, H_82, color = 'mediumslateblue', label = 'M82')\n",
    "#plt.plot(r_array, H_UV(SFR_82)*r_array**0, color = 'mediumslateblue', linestyle = '--')\n",
    "\n",
    "ax.plot(r_array, H_220, color = 'dodgerblue', label = 'Arp 220')\n",
    "#plt.plot(r_array, H_UV(SFR_220)*r_array**0, color = 'dodgerblue', linestyle = '--')\n",
    "\n",
    "ax.set_yscale('log')\n",
    "ax.set_ylabel('H / erg cm$^{-3}$ s$^{-1}$', fontsize = 14)\n",
    "#plt.ylim(10**-30, 10**-22)\n",
    "ax.set_xlabel('s / pc', fontsize = 14)\n",
    "ax.set_title('Galaxy Comparison')\n",
    "ax.tick_params(axis='both', which='major', labelsize = 12)\n",
    "\n",
    "fig.subplots_adjust(top = 0.84)\n",
    "fig.legend()\n",
    "plt.savefig('Galaxy Comparison.pdf')"
   ]
  }
 ],
 "metadata": {
  "kernelspec": {
   "display_name": "Python 3 (ipykernel)",
   "language": "python",
   "name": "python3"
  },
  "language_info": {
   "codemirror_mode": {
    "name": "ipython",
    "version": 3
   },
   "file_extension": ".py",
   "mimetype": "text/x-python",
   "name": "python",
   "nbconvert_exporter": "python",
   "pygments_lexer": "ipython3",
   "version": "3.9.12"
  }
 },
 "nbformat": 4,
 "nbformat_minor": 5
}
